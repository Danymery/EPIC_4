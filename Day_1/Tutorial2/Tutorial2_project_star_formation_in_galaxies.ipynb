{
  "nbformat": 4,
  "nbformat_minor": 0,
  "metadata": {
    "colab": {
      "provenance": [],
      "authorship_tag": "ABX9TyPz2UPu2VSB0zw0UGah86oS",
      "include_colab_link": true
    },
    "kernelspec": {
      "name": "python3",
      "display_name": "Python 3"
    },
    "language_info": {
      "name": "python"
    }
  },
  "cells": [
    {
      "cell_type": "markdown",
      "metadata": {
        "id": "view-in-github",
        "colab_type": "text"
      },
      "source": [
        "<a href=\"https://colab.research.google.com/github/helgadenes/EPIC_4/blob/main/Day_1/Tutorial2/Tutorial2_project_star_formation_in_galaxies.ipynb\" target=\"_parent\"><img src=\"https://colab.research.google.com/assets/colab-badge.svg\" alt=\"Open In Colab\"/></a>"
      ]
    },
    {
      "cell_type": "markdown",
      "source": [
        "# Analysing star formation properties of galaxies\n",
        "\n",
        "### Project activities related to the 2nd tutorial in EPIC 4\n",
        "\n",
        "This notebook aims to help you explore star formation in galaxies using data from the SDSS survey. The notebook provides instructions and some code to help you. The instructions ask you to perform some simple calculations and to create histograms and scatter plots.\n",
        "\n",
        "\n",
        "First dwonload the relevant data from the Sloan DIgital Sky Survey (SDSS) data base. The code for this is provided. In the cell below.  \n",
        "\n",
        "- The SpecObj table contains basic information about the observation and the object, such as the redshift.\n",
        "- The galaxy table provides useful photometric measurements for colors and images.\n",
        "- The three GalSpec table each give products derived from spectroscopy.\n",
        "\n",
        "We are going to use the intensity measurments of hydrogen lines H$\\alpha$ and H$\\beta$ for the data analysis.\n",
        "\n",
        "The H$\\alpha$ emission line is a convienient indicator of the star formation rate.\n",
        "\n",
        "We want galaxies with quality measurements of this line strength, so a S/N restriction is specified. We also want the H$\\beta$ emission line, because as we will see below, this will assist us in accounting for dust absorption along our line of sight."
      ],
      "metadata": {
        "id": "AifHujXblAY4"
      }
    },
    {
      "cell_type": "code",
      "source": [
        "!pip install astroquery"
      ],
      "metadata": {
        "colab": {
          "base_uri": "https://localhost:8080/"
        },
        "id": "1K6F2rzF_kmo",
        "outputId": "0d0cab49-163c-4126-8924-ff3eb18e7ae8"
      },
      "execution_count": 1,
      "outputs": [
        {
          "output_type": "stream",
          "name": "stdout",
          "text": [
            "Collecting astroquery\n",
            "  Downloading astroquery-0.4.7-py3-none-any.whl (5.3 MB)\n",
            "\u001b[2K     \u001b[90m━━━━━━━━━━━━━━━━━━━━━━━━━━━━━━━━━━━━━━━━\u001b[0m \u001b[32m5.3/5.3 MB\u001b[0m \u001b[31m9.3 MB/s\u001b[0m eta \u001b[36m0:00:00\u001b[0m\n",
            "\u001b[?25hRequirement already satisfied: numpy>=1.18 in /usr/local/lib/python3.10/dist-packages (from astroquery) (1.25.2)\n",
            "Requirement already satisfied: astropy>=4.2.1 in /usr/local/lib/python3.10/dist-packages (from astroquery) (5.3.4)\n",
            "Requirement already satisfied: requests>=2.19 in /usr/local/lib/python3.10/dist-packages (from astroquery) (2.31.0)\n",
            "Requirement already satisfied: beautifulsoup4>=4.8 in /usr/local/lib/python3.10/dist-packages (from astroquery) (4.12.3)\n",
            "Requirement already satisfied: html5lib>=0.999 in /usr/local/lib/python3.10/dist-packages (from astroquery) (1.1)\n",
            "Requirement already satisfied: keyring>=15.0 in /usr/lib/python3/dist-packages (from astroquery) (23.5.0)\n",
            "Collecting pyvo>=1.1 (from astroquery)\n",
            "  Downloading pyvo-1.5.2-py3-none-any.whl (910 kB)\n",
            "\u001b[2K     \u001b[90m━━━━━━━━━━━━━━━━━━━━━━━━━━━━━━━━━━━━━━━━\u001b[0m \u001b[32m910.8/910.8 kB\u001b[0m \u001b[31m18.4 MB/s\u001b[0m eta \u001b[36m0:00:00\u001b[0m\n",
            "\u001b[?25hRequirement already satisfied: pyerfa>=2.0 in /usr/local/lib/python3.10/dist-packages (from astropy>=4.2.1->astroquery) (2.0.1.4)\n",
            "Requirement already satisfied: PyYAML>=3.13 in /usr/local/lib/python3.10/dist-packages (from astropy>=4.2.1->astroquery) (6.0.1)\n",
            "Requirement already satisfied: packaging>=19.0 in /usr/local/lib/python3.10/dist-packages (from astropy>=4.2.1->astroquery) (24.1)\n",
            "Requirement already satisfied: soupsieve>1.2 in /usr/local/lib/python3.10/dist-packages (from beautifulsoup4>=4.8->astroquery) (2.5)\n",
            "Requirement already satisfied: six>=1.9 in /usr/local/lib/python3.10/dist-packages (from html5lib>=0.999->astroquery) (1.16.0)\n",
            "Requirement already satisfied: webencodings in /usr/local/lib/python3.10/dist-packages (from html5lib>=0.999->astroquery) (0.5.1)\n",
            "Requirement already satisfied: charset-normalizer<4,>=2 in /usr/local/lib/python3.10/dist-packages (from requests>=2.19->astroquery) (3.3.2)\n",
            "Requirement already satisfied: idna<4,>=2.5 in /usr/local/lib/python3.10/dist-packages (from requests>=2.19->astroquery) (3.7)\n",
            "Requirement already satisfied: urllib3<3,>=1.21.1 in /usr/local/lib/python3.10/dist-packages (from requests>=2.19->astroquery) (2.0.7)\n",
            "Requirement already satisfied: certifi>=2017.4.17 in /usr/local/lib/python3.10/dist-packages (from requests>=2.19->astroquery) (2024.7.4)\n",
            "Installing collected packages: pyvo, astroquery\n",
            "Successfully installed astroquery-0.4.7 pyvo-1.5.2\n"
          ]
        }
      ]
    },
    {
      "cell_type": "code",
      "execution_count": 2,
      "metadata": {
        "id": "_TP9wCK070jg"
      },
      "outputs": [],
      "source": [
        "# Import relevant libraries\n",
        "\n",
        "import pandas as pd # data analysis\n",
        "import numpy as np # more data analysis\n",
        "\n",
        "from matplotlib import pyplot as plt # another plotting library\n",
        "from matplotlib.image import imread\n",
        "\n",
        "from astropy.constants import c # useful constants\n",
        "from astropy import units as u # useful for unit conversions\n",
        "from astropy import coordinates as coords\n",
        "from astropy.coordinates import SkyCoord\n",
        "from astropy.io import fits\n",
        "from astropy.io import ascii\n",
        "\n",
        "from astroquery.sdss import SDSS\n",
        "from astroquery.simbad import Simbad\n",
        "\n",
        "# Python standard-libraries to download data from the web\n",
        "from urllib.parse import urlencode\n",
        "from urllib.request import urlretrieve\n",
        "\n",
        "#only here to display images\n",
        "from IPython.display import Image"
      ]
    },
    {
      "cell_type": "code",
      "source": [
        "# Create a query to fetch star forming galaxies\n",
        "\n",
        "query = 'SELECT s.plate, s.fiberid, s.mjd, s.ra, s.dec, s.z, s.zwarning, '   # selecting the measured quantities that we want\n",
        "query += 'g.h_beta_flux, g.h_alpha_flux, '\n",
        "query += 'g.h_beta_flux_err, g.h_alpha_flux_err, '\n",
        "query += 'e.bptclass, e.lgm_tot_p50, '\n",
        "query += 'i.lick_hd_a_sub, i.d4000_n_sub, '\n",
        "query += 'i.lick_hd_a_sub_err, i.d4000_n_sub_err, '\n",
        "query += 'p.petror90_r, p.dered_u as u, p.dered_g as g '\n",
        "query += 'FROM GalSpecLine AS g, SpecObj AS s, GalSpecExtra AS e, GalSpecIndx AS i, galaxy AS p '  # selecting the data tables\n",
        "query += 'WHERE '                                  # matching tables and applying some selection criteria\n",
        "query += 's.specobjid = g.specobjid '\n",
        "query += 'AND s.specobjid = e.specobjid '\n",
        "query += 'AND s.specobjid = i.specobjid '\n",
        "query += 'AND s.bestobjid = p.objid '\n",
        "query += 'AND bptclass = 1 '\n",
        "query += 'AND p.petror90_r > 5 '\n",
        "query += 'AND s.z BETWEEN 0.04 and 0.1 ' # Lower limit needed for global parameters w/ small aperture\n",
        "query += 'AND h_alpha_flux > h_alpha_flux_err*5.0 ' # Make sure Balmer lines have adequate S/N\n",
        "query += 'AND h_beta_flux > h_beta_flux_err*5.0 '\n",
        "query += 'AND d4000_n_sub > d4000_n_sub_err*5.0 '\n",
        "query += 'AND h_alpha_flux_err > 0 ' #  Consistency check\n",
        "query += 'AND h_beta_flux_err > 0 '\n",
        "query += 'AND h_alpha_flux > 2.7*h_beta_flux ' #  Ensures proper continuum subtraction\n",
        "query += 'AND lgm_tot_p50 > 0 '\n",
        "query += 'AND sigma_balmer < 509.55 ' #  Exclude the broad line emitting galaxies\n",
        "query += 'AND s.class = \\'GALAXY\\' '  #  Looking for galaxies, not stars\n",
        "query += 'AND s.zwarning = 0 '\n",
        "#print (query) # useful for debugging, remove first # to uncomment\n",
        "\n",
        "# send query to SDSS\n",
        "gals = SDSS.query_sql(query,data_release=16)\n",
        "\n",
        "# check data table that we got from the data base\n",
        "gals"
      ],
      "metadata": {
        "colab": {
          "base_uri": "https://localhost:8080/",
          "height": 548
        },
        "id": "vvllHCya8tFl",
        "outputId": "01602d0c-4e4a-4d5a-d86c-4f31c5b88c8c"
      },
      "execution_count": 3,
      "outputs": [
        {
          "output_type": "execute_result",
          "data": {
            "text/plain": [
              "<Table length=63676>\n",
              "plate fiberid  mjd      ra    ... d4000_n_sub_err petror90_r    u        g    \n",
              "int64  int64  int64  float64  ...     float64      float64   float64  float64 \n",
              "----- ------- ----- --------- ... --------------- ---------- -------- --------\n",
              "  331      98 52368 180.71755 ...      0.04606323   7.548193 19.00633 17.36687\n",
              "  333      58 52313 185.17421 ...      0.02330074     5.6225 18.45313 17.33067\n",
              "  335     133 52000 189.02828 ...      0.01997062   5.764417 18.21997 17.10905\n",
              "  330     224 52370 177.71634 ...      0.02852155   8.153114 18.64158 17.56788\n",
              "  339     351 51692 195.09922 ...      0.02136064   5.353164 19.12785 17.92694\n",
              "  338     266 51694 194.36721 ...      0.03761733    5.09828 19.44892 18.08693\n",
              "  496     201 51988 201.09803 ...      0.01907656   8.595096 18.40165 17.44063\n",
              "  445     483 51873 129.15936 ...      0.01053269   11.15545 17.42341 15.86291\n",
              "  438      43 51884 121.76274 ...      0.02143333   8.054012 17.59638 16.32443\n",
              "  296     113 51984 200.49175 ...      0.02967433   7.043937 18.33829 17.21439\n",
              "  ...     ...   ...       ... ...             ...        ...      ...      ...\n",
              " 2517     310 54567 234.91096 ...      0.04652486   7.432574 19.01941 17.89072\n",
              " 2742     288 54233 205.87726 ...      0.01203434   9.725197 17.35795 16.00871\n",
              " 2743     230 54259 208.65786 ...       0.0220416   6.020237 17.88021 16.74253\n",
              " 2742     594 54233 207.64796 ...      0.01241751   5.136823 18.00749 17.12649\n",
              " 2746      37 54232 216.79944 ...      0.03659579   6.812366 18.96146 17.69445\n",
              " 2747     422 54233 217.11813 ...      0.01281535   6.065875 18.26342 17.09868\n",
              " 2742     412 54233 206.78496 ...      0.03296024   10.25781 18.59029 17.27621\n",
              "  666      49 52149  31.33337 ...      0.02686941   5.975659 19.12036 17.60498\n",
              " 2571     320 54055 123.55497 ...      0.05341515   8.953645 20.06321 18.28425\n",
              "  746      14 52238 353.25315 ...      0.06488062   8.183582  19.0735 17.71091"
            ],
            "text/html": [
              "<div><i>Table length=63676</i>\n",
              "<table id=\"table140400369855232\" class=\"table-striped table-bordered table-condensed\">\n",
              "<thead><tr><th>plate</th><th>fiberid</th><th>mjd</th><th>ra</th><th>dec</th><th>z</th><th>zwarning</th><th>h_beta_flux</th><th>h_alpha_flux</th><th>h_beta_flux_err</th><th>h_alpha_flux_err</th><th>bptclass</th><th>lgm_tot_p50</th><th>lick_hd_a_sub</th><th>d4000_n_sub</th><th>lick_hd_a_sub_err</th><th>d4000_n_sub_err</th><th>petror90_r</th><th>u</th><th>g</th></tr></thead>\n",
              "<thead><tr><th>int64</th><th>int64</th><th>int64</th><th>float64</th><th>float64</th><th>float64</th><th>int64</th><th>float64</th><th>float64</th><th>float64</th><th>float64</th><th>int64</th><th>float64</th><th>float64</th><th>float64</th><th>float64</th><th>float64</th><th>float64</th><th>float64</th><th>float64</th></tr></thead>\n",
              "<tr><td>331</td><td>98</td><td>52368</td><td>180.71755</td><td>-3.4344455</td><td>0.04719325</td><td>0</td><td>60.89765</td><td>322.8908</td><td>3.126591</td><td>5.579741</td><td>1</td><td>10.51111</td><td>2.955382</td><td>1.324214</td><td>1.823418</td><td>0.04606323</td><td>7.548193</td><td>19.00633</td><td>17.36687</td></tr>\n",
              "<tr><td>333</td><td>58</td><td>52313</td><td>185.17421</td><td>-3.373588</td><td>0.06113762</td><td>0</td><td>78.35414</td><td>273.3313</td><td>2.27171</td><td>3.133114</td><td>1</td><td>9.952115</td><td>4.971385</td><td>1.262137</td><td>0.9581501</td><td>0.02330074</td><td>5.6225</td><td>18.45313</td><td>17.33067</td></tr>\n",
              "<tr><td>335</td><td>133</td><td>52000</td><td>189.02828</td><td>-3.5307497</td><td>0.07000943</td><td>0</td><td>64.61208</td><td>270.9374</td><td>2.779556</td><td>3.905551</td><td>1</td><td>10.15141</td><td>3.738568</td><td>1.302683</td><td>0.878454</td><td>0.01997062</td><td>5.764417</td><td>18.21997</td><td>17.10905</td></tr>\n",
              "<tr><td>330</td><td>224</td><td>52370</td><td>177.71634</td><td>-2.5360534</td><td>0.08552437</td><td>0</td><td>49.77313</td><td>172.5872</td><td>2.531304</td><td>3.046535</td><td>1</td><td>10.0527</td><td>4.028034</td><td>1.186684</td><td>1.35154</td><td>0.02852155</td><td>8.153114</td><td>18.64158</td><td>17.56788</td></tr>\n",
              "<tr><td>339</td><td>351</td><td>51692</td><td>195.09922</td><td>-2.2265093</td><td>0.08655296</td><td>0</td><td>59.38163</td><td>272.6566</td><td>2.434419</td><td>3.459759</td><td>1</td><td>10.11765</td><td>5.875441</td><td>1.2468</td><td>0.9563492</td><td>0.02136064</td><td>5.353164</td><td>19.12785</td><td>17.92694</td></tr>\n",
              "<tr><td>338</td><td>266</td><td>51694</td><td>194.36721</td><td>-2.7991393</td><td>0.0812414</td><td>0</td><td>53.32957</td><td>298.4123</td><td>2.572135</td><td>3.475201</td><td>1</td><td>10.43292</td><td>3.502567</td><td>1.444381</td><td>1.348861</td><td>0.03761733</td><td>5.09828</td><td>19.44892</td><td>18.08693</td></tr>\n",
              "<tr><td>496</td><td>201</td><td>51988</td><td>201.09803</td><td>65.406912</td><td>0.09003706</td><td>0</td><td>166.3421</td><td>661.0942</td><td>3.523089</td><td>6.581434</td><td>1</td><td>10.3159</td><td>3.920924</td><td>1.10561</td><td>1.05055</td><td>0.01907656</td><td>8.595096</td><td>18.40165</td><td>17.44063</td></tr>\n",
              "<tr><td>445</td><td>483</td><td>51873</td><td>129.15936</td><td>50.929651</td><td>0.0446375</td><td>0</td><td>175.1524</td><td>768.1199</td><td>4.746469</td><td>9.618892</td><td>1</td><td>10.69503</td><td>1.48509</td><td>1.461214</td><td>0.4140134</td><td>0.01053269</td><td>11.15545</td><td>17.42341</td><td>15.86291</td></tr>\n",
              "<tr><td>438</td><td>43</td><td>51884</td><td>121.76274</td><td>45.676386</td><td>0.05022486</td><td>0</td><td>92.67487</td><td>405.7007</td><td>2.740864</td><td>4.628186</td><td>1</td><td>10.36949</td><td>4.065806</td><td>1.351605</td><td>0.7992107</td><td>0.02143333</td><td>8.054012</td><td>17.59638</td><td>16.32443</td></tr>\n",
              "<tr><td>296</td><td>113</td><td>51984</td><td>200.49175</td><td>-0.18455792</td><td>0.08316069</td><td>0</td><td>41.4323</td><td>152.2837</td><td>2.189871</td><td>2.666738</td><td>1</td><td>10.28037</td><td>3.128147</td><td>1.361036</td><td>1.213865</td><td>0.02967433</td><td>7.043937</td><td>18.33829</td><td>17.21439</td></tr>\n",
              "<tr><td>...</td><td>...</td><td>...</td><td>...</td><td>...</td><td>...</td><td>...</td><td>...</td><td>...</td><td>...</td><td>...</td><td>...</td><td>...</td><td>...</td><td>...</td><td>...</td><td>...</td><td>...</td><td>...</td><td>...</td></tr>\n",
              "<tr><td>2517</td><td>310</td><td>54567</td><td>234.91096</td><td>13.715014</td><td>0.05304385</td><td>0</td><td>18.47599</td><td>58.82261</td><td>1.511988</td><td>1.667902</td><td>1</td><td>9.124019</td><td>-0.5080349</td><td>1.168194</td><td>2.38216</td><td>0.04652486</td><td>7.432574</td><td>19.01941</td><td>17.89072</td></tr>\n",
              "<tr><td>2742</td><td>288</td><td>54233</td><td>205.87726</td><td>15.432657</td><td>0.05949619</td><td>0</td><td>112.1514</td><td>454.6158</td><td>3.312471</td><td>5.581163</td><td>1</td><td>10.77357</td><td>2.557196</td><td>1.413751</td><td>0.4642475</td><td>0.01203434</td><td>9.725197</td><td>17.35795</td><td>16.00871</td></tr>\n",
              "<tr><td>2743</td><td>230</td><td>54259</td><td>208.65786</td><td>15.490215</td><td>0.06735529</td><td>0</td><td>100.203</td><td>472.9174</td><td>4.067571</td><td>6.789064</td><td>1</td><td>10.2925</td><td>4.87153</td><td>1.252117</td><td>0.9718738</td><td>0.0220416</td><td>6.020237</td><td>17.88021</td><td>16.74253</td></tr>\n",
              "<tr><td>2742</td><td>594</td><td>54233</td><td>207.64796</td><td>16.565125</td><td>0.0954835</td><td>0</td><td>138.5425</td><td>505.2163</td><td>2.499279</td><td>4.692132</td><td>1</td><td>10.12241</td><td>6.426445</td><td>1.160669</td><td>0.624638</td><td>0.01241751</td><td>5.136823</td><td>18.00749</td><td>17.12649</td></tr>\n",
              "<tr><td>2746</td><td>37</td><td>54232</td><td>216.79944</td><td>15.238745</td><td>0.07089479</td><td>0</td><td>31.241</td><td>105.1574</td><td>2.007335</td><td>2.528003</td><td>1</td><td>10.04356</td><td>4.84835</td><td>1.333742</td><td>1.446399</td><td>0.03659579</td><td>6.812366</td><td>18.96146</td><td>17.69445</td></tr>\n",
              "<tr><td>2747</td><td>422</td><td>54233</td><td>217.11813</td><td>15.316514</td><td>0.07057717</td><td>0</td><td>116.3451</td><td>440.4724</td><td>2.631867</td><td>4.308505</td><td>1</td><td>10.03539</td><td>6.574914</td><td>1.204799</td><td>0.5902306</td><td>0.01281535</td><td>6.065875</td><td>18.26342</td><td>17.09868</td></tr>\n",
              "<tr><td>2742</td><td>412</td><td>54233</td><td>206.78496</td><td>17.059917</td><td>0.04057457</td><td>0</td><td>21.00631</td><td>89.72342</td><td>1.604749</td><td>2.231778</td><td>1</td><td>9.695313</td><td>4.065498</td><td>1.305093</td><td>1.284749</td><td>0.03296024</td><td>10.25781</td><td>18.59029</td><td>17.27621</td></tr>\n",
              "<tr><td>666</td><td>49</td><td>52149</td><td>31.33337</td><td>-9.9354852</td><td>0.04832388</td><td>0</td><td>81.08583</td><td>516.2044</td><td>2.189525</td><td>3.832973</td><td>1</td><td>10.16773</td><td>2.635024</td><td>1.491306</td><td>0.8765949</td><td>0.02686941</td><td>5.975659</td><td>19.12036</td><td>17.60498</td></tr>\n",
              "<tr><td>2571</td><td>320</td><td>54055</td><td>123.55497</td><td>8.5624272</td><td>0.07245885</td><td>0</td><td>16.8979</td><td>60.13288</td><td>1.499918</td><td>1.66036</td><td>1</td><td>10.20528</td><td>6.004191</td><td>1.371906</td><td>2.000497</td><td>0.05341515</td><td>8.953645</td><td>20.06321</td><td>18.28425</td></tr>\n",
              "<tr><td>746</td><td>14</td><td>52238</td><td>353.25315</td><td>13.768154</td><td>0.08699607</td><td>0</td><td>31.62255</td><td>144.4869</td><td>2.740809</td><td>2.635651</td><td>1</td><td>10.36531</td><td>0.1250866</td><td>1.444489</td><td>2.857511</td><td>0.06488062</td><td>8.183582</td><td>19.0735</td><td>17.71091</td></tr>\n",
              "</table></div>"
            ]
          },
          "metadata": {},
          "execution_count": 3
        }
      ]
    },
    {
      "cell_type": "markdown",
      "source": [
        "### Dereddening the Spectrum\n",
        "\n",
        "In order to determine the star formation rate (SFR) in each galaxy, we need to get the H $\\alpha$ luminosity L(H$\\alpha$) emitted from each galaxy. The SQL query gives us the observed flux F(H$\\alpha$), but this doesn’t account for dust absorbing some of this light as it travels from a galaxy to the point of observation. Fortunately, we can correct for this “extinction” by making use of the fact that dust preferentially absorbs shorter wavelength light to “deredden” the spectrum. In ideal conditions without dust, we can assume that\n",
        "F(H$\\alpha$)/F(H$\\beta$) = 2.86 in star forming regions. Let’s deredden the H$\\alpha$ flux."
      ],
      "metadata": {
        "id": "-AOui-wtlPN8"
      }
    },
    {
      "cell_type": "code",
      "source": [
        "# Deredden emission lines according to Calzetii+ 2000\n",
        "# wavelength supplied in angstroms\n",
        "# wl : wavelenght\n",
        "# kwl : wavenumber\n",
        "\n",
        "def deredden(lum,wl,Hb,Ha):\n",
        "    if (wl >= 6300 and wl <= 22000):\n",
        "        wl = wl/1e4 # convert to microns\n",
        "        kwl = 2.659*(-1.857+1.040/wl)+4.05\n",
        "    elif (wl >= 1200 and wl < 6300):\n",
        "        wl = wl/1e4 # convert to microns\n",
        "        kwl = 2.659*(-2.156+1.509/wl-0.198/wl**2+0.011/wl**3)+4.05\n",
        "    else:\n",
        "        print ('Wavelength of range')\n",
        "\n",
        "    # Using k-values calc as above\n",
        "    kHa = 3.326\n",
        "    kHb = 4.598\n",
        "\n",
        "    ebmv = 2.5/(kHb-kHa)*np.log10(Ha/Hb/2.86) # 2.86 for SF; 3.1 for AGN\n",
        "    lum_dr = lum*10**(0.4*kwl*ebmv)\n",
        "\n",
        "    return lum_dr\n",
        "\n",
        "####\n",
        "\n",
        "Halpha_flux = gals['h_alpha_flux']\n",
        "Hbeta_flux = gals['h_beta_flux']\n",
        "\n",
        "#The actual H alpha flux\n",
        "Halpha_flux_dr = deredden(Halpha_flux,6563,Hbeta_flux,Halpha_flux)"
      ],
      "metadata": {
        "id": "88sEJaKF_tj4"
      },
      "execution_count": 4,
      "outputs": []
    },
    {
      "cell_type": "markdown",
      "source": [
        "According to the GalSpecLine table, the line flux is returned as 10$^{-17}$ erg/s/cm$^2$, so we first need to multiply our dereddened F(H) by 10$^{-17}$ to get actual flux value. Luminosity has units of energy / second, and an erg is a unit of energy.\n",
        "\n"
      ],
      "metadata": {
        "id": "iQXKbtPclfVc"
      }
    },
    {
      "cell_type": "code",
      "source": [
        "flux = Halpha_flux_dr * 1e-17 #Actual flux"
      ],
      "metadata": {
        "id": "z7wRwirci5Pz"
      },
      "execution_count": 5,
      "outputs": []
    },
    {
      "cell_type": "markdown",
      "source": [
        "1) Calcualte the distance to the galaxies in the sample in cm. Make sure to clarify which hubble constant you are using.\n",
        "\n",
        "You can convert the redshift (z) to distance (d) using the following relation:  \n",
        "$$z=H_0 \\frac{d}{c}$$\n",
        "\n",
        "For the Hubble Constant you can use $H_0$=70 (km /s)/Mpc, and c is the speed of light."
      ],
      "metadata": {
        "id": "6uBWkdvWi3Jq"
      }
    },
    {
      "cell_type": "markdown",
      "source": [
        "2) Convert the H$\\alpha$ flux, $F(H_\\alpha)$, into H$\\alpha$ luminosity, $L(H_\\alpha)$. The Luminosity is given by the following equation: $$L(H_\\alpha)= 4 \\pi d^2 F(H_\\alpha)$$\n",
        "\n",
        "d is the distance to the galaxy."
      ],
      "metadata": {
        "id": "0HGuGT_Zpri6"
      }
    },
    {
      "cell_type": "markdown",
      "source": [
        "We can now use the L(H$\\alpha$) to determine the star formation rate (SFR) of the galaxies in our sample. The star formation rate is how many new stars a galaxy forms per year in units of solar mass/year (M$_{\\odot}$/yr). To calcualte the SFR we can use the following conversion:\n",
        "\n",
        "$$SFR = \\frac{L(H\\alpha)}{1.26 \\times 10^{41} ergs \\ s^{-1}}$$"
      ],
      "metadata": {
        "id": "ipbzQOXBljSq"
      }
    },
    {
      "cell_type": "markdown",
      "source": [
        "3) Calcualte the star formation rate as $log_{10}(SFR)$. Make a histogram of $log_{10}(SFR)$. How is the distribution of the star formation rate?  "
      ],
      "metadata": {
        "id": "ZHcsbLfMlog6"
      }
    },
    {
      "cell_type": "markdown",
      "source": [
        "### The Star Forming Main Sequence\n",
        "\n",
        "A common measure of galaxy mass is its stellar mass M$_{\\star}$ in units of solar mass M$_{\\odot}$, however a galaxy’s mass can be defined in many ways. We can roughly envision that M$_{\\star}$ is proxy for galaxy size since larger galaxies typically contain more stars.\n",
        "\n",
        "4) Make a scatter plot of $log_{10}(SFR)$ vs $log_{10}(M_{\\star})$. We have $log_{10}(M_{\\star})$ provided in the SDSS data as: gals['lgm_tot_p50']. Plot $log_{10}(M_{\\star})$ on the x-axis.\n",
        "\n",
        "**Based on the plot, how does the SFR correlate with the stallar mass M$_{\\star}$?**\n"
      ],
      "metadata": {
        "id": "VmuzT0E_lt2S"
      }
    },
    {
      "cell_type": "markdown",
      "source": [
        "The expected correlation is the following:\n",
        "\n",
        "$$log_{10}(SFR) = log_{10}M_{\\star} \\times 1.292 - 12.31$$\n",
        "\n",
        "5) Make the same plot $log_{10}(SFR)$ vs $log_{10}(M_{\\star})$ adding the expected correlation. What can you conclude form this plot? Are there many galaxies that are above the correlation?  "
      ],
      "metadata": {
        "id": "vz0Fq3Rtvw_5"
      }
    },
    {
      "cell_type": "markdown",
      "source": [
        "6) <b>What kind of galaxies are the ones with high star formation rates?\n",
        "\n",
        "Are these spirals or ellipticals?\n",
        "\n",
        "Do these galaxies look blue or red?</b>\n",
        "\n",
        "To answere this, download a sample of images for 16 galaxies for which $log_{10}(SFR)$ is smaller than the 25th percentile of the data.\n",
        "\n",
        "You can use the code below to get the image cutouts."
      ],
      "metadata": {
        "id": "mMC9nm6vlxfb"
      }
    },
    {
      "cell_type": "code",
      "source": [
        "#\n",
        "# Function to display images\n",
        "#\n",
        "def get_images(gal_array):\n",
        "    # set thumbnail parameters\n",
        "    width=200           # image width\n",
        "    height=200          # height\n",
        "    pixelsize=0.396     # image scale\n",
        "    plt.figure(figsize=(15, 15))   # display in a 4x4 grid\n",
        "    subPlotNum = 1\n",
        "\n",
        "    i = 0\n",
        "    new_gals = gal_array\n",
        "    nGalaxies = len(new_gals)\n",
        "    for index in range(0,nGalaxies):           # iterate through rows in the DataFrame\n",
        "        i = i + 1\n",
        "        if i<17:\n",
        "            print('Getting image of '+str(i)+' of '+str(nGalaxies)+'...')\n",
        "            if (i == nGalaxies):\n",
        "                print('Plotting images...')\n",
        "            scale=2.0 * new_gals['petror90_r'] / pixelsize / width\n",
        "\n",
        "            pos = coords.SkyCoord(new_gals['ra'][index], new_gals['dec'][index], unit=u.deg, frame='icrs')\n",
        "\n",
        "            cutoutbaseurl = 'http://skyservice.pha.jhu.edu/DR12/ImgCutout/getjpeg.aspx'\n",
        "            query_string = urlencode(dict(ra=new_gals['ra'][index], dec=new_gals['dec'][index],width=width, height=height, scale=scale[i]))\n",
        "            url = cutoutbaseurl + '?' + query_string\n",
        "\n",
        "            # this downloads the image\n",
        "            image_name = 'cutout_'+str(index)+'.jpg'\n",
        "            urlretrieve(url, image_name)\n",
        "\n",
        "            # Display the image\n",
        "            img = imread(image_name)\n",
        "\n",
        "            plt.subplot(4,4,subPlotNum)\n",
        "            subPlotNum += 1\n",
        "            plt.imshow(img)                               # show images in grid\n",
        "            plt.title(index)                              # show the object identifier (objId) above the image.\n",
        "\n",
        "######\n"
      ],
      "metadata": {
        "id": "0J4uT5mvl0D-"
      },
      "execution_count": 6,
      "outputs": []
    },
    {
      "cell_type": "markdown",
      "source": [
        "7) <b>What kind of galaxies are the ones with low star formation rates?\n",
        "\n",
        "Are these spirals or ellipticals?\n",
        "\n",
        "Do these galaxies look blue or red? </b>\n",
        "\n",
        "To answere this, download a sample of images for 16 galaxies for which $log_{10}(SFR)$ is larger than the 75th percentile of the data."
      ],
      "metadata": {
        "id": "UpwvsPQVl-j4"
      }
    },
    {
      "cell_type": "markdown",
      "source": [
        "8) **Do yuo see a difference between the low and the high star formation rate sample?**\n",
        "\n",
        "Let's investigate the colours of these galaxies. Make a histogram of the u-g coulour.\n",
        "\n",
        "**Does the histogram look the same as the u-g colour histogram in the tutorial notebook?**  \n",
        "\n"
      ],
      "metadata": {
        "id": "hm9gaIudVx1I"
      }
    },
    {
      "cell_type": "markdown",
      "source": [
        "9) There are galaxies that form stars in an extreme way. These galaxies are called **starbusrt galaxies**.\n",
        "\n",
        "**How do the starburst galaxies look like?**\n",
        "\n",
        "To answere this, download a sample of images for 16 galaxies for which $log_{10}(SFR)$ is larger than the 99th percentile of the data.\n",
        "\n"
      ],
      "metadata": {
        "id": "RqNpGcwkWmRb"
      }
    },
    {
      "cell_type": "markdown",
      "source": [
        "### The specific star formation rate\n",
        "\n",
        "Typically more massive galaxies have more gas and are able to form stars. This means that star formation rate alone is not a good method in evaluating how activly a galaxy is forming stars and growing. A better parameter is, if we normalise the star formation rate with the stellar mass. This is called **specific star formation rate (sSFR)**. It is defined as\n",
        "\n",
        "$$sSFR = \\frac{SFR}{M_{\\star}}$$\n",
        "\n",
        "and represents ratio of current star formation to past star formation, or the growth rate of stellar mass in a galaxy. We can calcualte the sSFR to our dataframe to explore the metric in detail.\n",
        "\n",
        "9) Calcualte the $log_{10}(sSFR)$ and make a scatter plot of $log_{10}M_{\\star}$ on the x-axis and $log_{10}(sSFR)$ on the y-axis. Make sure to exclude outliers from the plot. For this you can use ax.set_ylim().\n",
        "\n",
        "**Does this plot show the same correlation as the $log_{10}(SFR)$ - $log_{10}M_{\\star}$ plot?**\n",
        "\n",
        "**Are the high mass galaxies or the low mass galaxies more efficient at formaing stars?**"
      ],
      "metadata": {
        "id": "bxAZPW4imCxa"
      }
    },
    {
      "cell_type": "markdown",
      "source": [
        "10) **What kind of galaxies have the highest sSFR?**\n",
        "\n",
        "These galaxies form stars in an extreme way. These galaxies are called **starbusrt galaxies**.\n",
        "\n",
        "**How do the starburst galaxies look like?**\n",
        "\n",
        "To answere this, download a sample of images for 16 galaxies for which $log_{10}(sSFR)$ is larger than the 99.9th percentile of the data."
      ],
      "metadata": {
        "id": "ZeuU-nFpmHR4"
      }
    },
    {
      "cell_type": "code",
      "source": [],
      "metadata": {
        "id": "NiLilUl2AhuP"
      },
      "execution_count": 6,
      "outputs": []
    }
  ]
}