{
  "nbformat": 4,
  "nbformat_minor": 0,
  "metadata": {
    "colab": {
      "provenance": [],
      "authorship_tag": "ABX9TyOc8tmRqIF9RZv9WaeUo9Xx",
      "include_colab_link": true
    },
    "kernelspec": {
      "name": "python3",
      "display_name": "Python 3"
    },
    "language_info": {
      "name": "python"
    }
  },
  "cells": [
    {
      "cell_type": "markdown",
      "metadata": {
        "id": "view-in-github",
        "colab_type": "text"
      },
      "source": [
        "<a href=\"https://colab.research.google.com/github/helgadenes/EPIC_4/blob/main/Day_1/Tutorial2/Tutorial2_project_star_formation_in_galaxies.ipynb\" target=\"_parent\"><img src=\"https://colab.research.google.com/assets/colab-badge.svg\" alt=\"Open In Colab\"/></a>"
      ]
    },
    {
      "cell_type": "markdown",
      "source": [
        "# Analysing star formation properties of galaxies\n",
        "\n",
        "### Project activities related to the 2nd tutorial in EPIC 4\n",
        "\n",
        "This notebook aims to help you explore star formation in galaxies using data from the SDSS survey. The notebook provides instructions and some code to help you. The instructions ask you to perform some simple calculations and to create histograms and scatter plots.\n",
        "\n",
        "\n",
        "First dwonload the relevant data from the Sloan DIgital Sky Survey (SDSS) data base. The code for this is provided. In the cell below.  \n",
        "\n",
        "- The SpecObj table contains basic information about the observation and the object, such as the redshift.\n",
        "- The galaxy table provides useful photometric measurements for colors and images.\n",
        "- The three GalSpec table each give products derived from spectroscopy.\n",
        "\n",
        "We are going to use the intensity measurments of hydrogen lines H$\\alpha$ and H$\\beta$ for the data analysis.\n",
        "\n",
        "The H$\\alpha$ emission line is a convienient indicator of the star formation rate.\n",
        "\n",
        "We want galaxies with quality measurements of this line strength, so a S/N restriction is specified. We also want the H$\\beta$ emission line, because as we will see below, this will assist us in accounting for dust absorption along our line of sight."
      ],
      "metadata": {
        "id": "AifHujXblAY4"
      }
    },
    {
      "cell_type": "code",
      "source": [
        "!pip install astroquery"
      ],
      "metadata": {
        "colab": {
          "base_uri": "https://localhost:8080/"
        },
        "id": "1K6F2rzF_kmo",
        "outputId": "4bbbc883-5f87-4ed8-fd08-8cca8a2e4902"
      },
      "execution_count": null,
      "outputs": [
        {
          "output_type": "stream",
          "name": "stdout",
          "text": [
            "Collecting astroquery\n",
            "  Downloading astroquery-0.4.7-py3-none-any.whl (5.3 MB)\n",
            "\u001b[2K     \u001b[90m━━━━━━━━━━━━━━━━━━━━━━━━━━━━━━━━━━━━━━━━\u001b[0m \u001b[32m5.3/5.3 MB\u001b[0m \u001b[31m9.2 MB/s\u001b[0m eta \u001b[36m0:00:00\u001b[0m\n",
            "\u001b[?25hRequirement already satisfied: numpy>=1.18 in /usr/local/lib/python3.10/dist-packages (from astroquery) (1.25.2)\n",
            "Requirement already satisfied: astropy>=4.2.1 in /usr/local/lib/python3.10/dist-packages (from astroquery) (5.3.4)\n",
            "Requirement already satisfied: requests>=2.19 in /usr/local/lib/python3.10/dist-packages (from astroquery) (2.31.0)\n",
            "Requirement already satisfied: beautifulsoup4>=4.8 in /usr/local/lib/python3.10/dist-packages (from astroquery) (4.12.3)\n",
            "Requirement already satisfied: html5lib>=0.999 in /usr/local/lib/python3.10/dist-packages (from astroquery) (1.1)\n",
            "Requirement already satisfied: keyring>=15.0 in /usr/lib/python3/dist-packages (from astroquery) (23.5.0)\n",
            "Collecting pyvo>=1.1 (from astroquery)\n",
            "  Downloading pyvo-1.5.2-py3-none-any.whl (910 kB)\n",
            "\u001b[2K     \u001b[90m━━━━━━━━━━━━━━━━━━━━━━━━━━━━━━━━━━━━━━━━\u001b[0m \u001b[32m910.8/910.8 kB\u001b[0m \u001b[31m14.3 MB/s\u001b[0m eta \u001b[36m0:00:00\u001b[0m\n",
            "\u001b[?25hRequirement already satisfied: pyerfa>=2.0 in /usr/local/lib/python3.10/dist-packages (from astropy>=4.2.1->astroquery) (2.0.1.4)\n",
            "Requirement already satisfied: PyYAML>=3.13 in /usr/local/lib/python3.10/dist-packages (from astropy>=4.2.1->astroquery) (6.0.1)\n",
            "Requirement already satisfied: packaging>=19.0 in /usr/local/lib/python3.10/dist-packages (from astropy>=4.2.1->astroquery) (24.1)\n",
            "Requirement already satisfied: soupsieve>1.2 in /usr/local/lib/python3.10/dist-packages (from beautifulsoup4>=4.8->astroquery) (2.5)\n",
            "Requirement already satisfied: six>=1.9 in /usr/local/lib/python3.10/dist-packages (from html5lib>=0.999->astroquery) (1.16.0)\n",
            "Requirement already satisfied: webencodings in /usr/local/lib/python3.10/dist-packages (from html5lib>=0.999->astroquery) (0.5.1)\n",
            "Requirement already satisfied: charset-normalizer<4,>=2 in /usr/local/lib/python3.10/dist-packages (from requests>=2.19->astroquery) (3.3.2)\n",
            "Requirement already satisfied: idna<4,>=2.5 in /usr/local/lib/python3.10/dist-packages (from requests>=2.19->astroquery) (3.7)\n",
            "Requirement already satisfied: urllib3<3,>=1.21.1 in /usr/local/lib/python3.10/dist-packages (from requests>=2.19->astroquery) (2.0.7)\n",
            "Requirement already satisfied: certifi>=2017.4.17 in /usr/local/lib/python3.10/dist-packages (from requests>=2.19->astroquery) (2024.7.4)\n",
            "Installing collected packages: pyvo, astroquery\n",
            "Successfully installed astroquery-0.4.7 pyvo-1.5.2\n"
          ]
        }
      ]
    },
    {
      "cell_type": "code",
      "execution_count": null,
      "metadata": {
        "id": "_TP9wCK070jg"
      },
      "outputs": [],
      "source": [
        "# Import relevant libraries\n",
        "\n",
        "import pandas as pd # data analysis\n",
        "import numpy as np # more data analysis\n",
        "\n",
        "from matplotlib import pyplot as plt # another plotting library\n",
        "from matplotlib.image import imread\n",
        "\n",
        "from astropy.constants import c # useful constants\n",
        "from astropy import units as u # useful for unit conversions\n",
        "from astropy import coordinates as coords\n",
        "from astropy.coordinates import SkyCoord\n",
        "from astropy.io import fits\n",
        "from astropy.io import ascii\n",
        "\n",
        "from astroquery.sdss import SDSS\n",
        "from astroquery.simbad import Simbad\n",
        "\n",
        "# Python standard-libraries to download data from the web\n",
        "from urllib.parse import urlencode\n",
        "from urllib.request import urlretrieve\n",
        "\n",
        "#only here to display images\n",
        "from IPython.display import Image"
      ]
    },
    {
      "cell_type": "code",
      "source": [
        "# Create a query to fetch star forming galaxies\n",
        "\n",
        "query = 'SELECT s.plate, s.fiberid, s.mjd, s.ra, s.dec, s.z, s.zwarning, '   # selecting the measured quantities that we want\n",
        "query += 'g.h_beta_flux, g.h_alpha_flux, '\n",
        "query += 'g.h_beta_flux_err, g.h_alpha_flux_err, '\n",
        "query += 'e.bptclass, e.lgm_tot_p50, '\n",
        "query += 'i.lick_hd_a_sub, i.d4000_n_sub, '\n",
        "query += 'i.lick_hd_a_sub_err, i.d4000_n_sub_err, '\n",
        "query += 'p.petror90_r, p.dered_u as u, p.dered_g as g '\n",
        "query += 'FROM GalSpecLine AS g, SpecObj AS s, GalSpecExtra AS e, GalSpecIndx AS i, galaxy AS p '  # selecting the data tables\n",
        "query += 'WHERE '                                  # matching tables and applying some selection criteria\n",
        "query += 's.specobjid = g.specobjid '\n",
        "query += 'AND s.specobjid = e.specobjid '\n",
        "query += 'AND s.specobjid = i.specobjid '\n",
        "query += 'AND s.bestobjid = p.objid '\n",
        "query += 'AND bptclass = 1 '\n",
        "query += 'AND p.petror90_r > 5 '\n",
        "query += 'AND s.z BETWEEN 0.04 and 0.1 ' # Lower limit needed for global parameters w/ small aperture\n",
        "query += 'AND h_alpha_flux > h_alpha_flux_err*5.0 ' # Make sure Balmer lines have adequate S/N\n",
        "query += 'AND h_beta_flux > h_beta_flux_err*5.0 '\n",
        "query += 'AND d4000_n_sub > d4000_n_sub_err*5.0 '\n",
        "query += 'AND h_alpha_flux_err > 0 ' #  Consistency check\n",
        "query += 'AND h_beta_flux_err > 0 '\n",
        "query += 'AND h_alpha_flux > 2.7*h_beta_flux ' #  Ensures proper continuum subtraction\n",
        "query += 'AND lgm_tot_p50 > 0 '\n",
        "query += 'AND sigma_balmer < 509.55 ' #  Exclude the broad line emitting galaxies\n",
        "query += 'AND s.class = \\'GALAXY\\' '  #  Looking for galaxies, not stars\n",
        "query += 'AND s.zwarning = 0 '\n",
        "#print (query) # useful for debugging, remove first # to uncomment\n",
        "\n",
        "# send query to SDSS\n",
        "gals = SDSS.query_sql(query,data_release=16)\n",
        "\n",
        "# check data table that we got from the data base\n",
        "gals"
      ],
      "metadata": {
        "colab": {
          "base_uri": "https://localhost:8080/",
          "height": 548
        },
        "id": "vvllHCya8tFl",
        "outputId": "647c22c3-5d9f-4c81-887a-45f320c985f2"
      },
      "execution_count": null,
      "outputs": [
        {
          "output_type": "execute_result",
          "data": {
            "text/plain": [
              "<Table length=10000>\n",
              "plate fiberid  mjd      ra    ... lick_hd_a_sub_err d4000_n_sub_err petror90_r\n",
              "int64  int64  int64  float64  ...      float64          float64      float64  \n",
              "----- ------- ----- --------- ... ----------------- --------------- ----------\n",
              "  333     571 52313 185.22443 ...         0.7445885       0.0169253   6.997992\n",
              "  474     275 52000  140.4862 ...         0.7427163      0.01972284   5.300612\n",
              "  476     183 52314 143.77995 ...         0.9091107      0.02208839   3.646848\n",
              "  451     159 51908 140.95425 ...         0.8388718      0.01940461   3.164736\n",
              "  773     312 52376 158.06856 ...         0.8798298      0.02084449   7.835544\n",
              "  488     580 51914 154.93239 ...         0.6908773      0.01562922   4.816102\n",
              "  491     615 51942 173.06908 ...         0.5999958      0.01371835   4.308666\n",
              "  498     505 51984 212.10789 ...          1.265234      0.03150718   5.096139\n",
              "  492      48 51955 178.17374 ...         0.5693665       0.0137907   12.35887\n",
              "  494     247 51915  186.2722 ...         0.6020391      0.01556796   4.950717\n",
              "  ...     ...   ...       ... ...               ...             ...        ...\n",
              "  367     579 51997  260.8185 ...          1.403625      0.04111953   5.344547\n",
              "  351     633 51695  258.2837 ...         0.9015635        0.019377   4.547138\n",
              "  367     265 51997 259.31991 ...         0.6870736      0.01888028   5.878625\n",
              "  847     276 52426  191.0966 ...           1.49657      0.04027581   5.163736\n",
              "  770     424 52282 148.61877 ...         0.4174074     0.007911522   4.294993\n",
              "  770     575 52282 151.36919 ...         0.9649004      0.02396402   3.607511\n",
              "  604     542 52079 207.37885 ...         0.9496084      0.02154303   9.468022\n",
              "  616     544 52442 235.66063 ...          0.871084      0.01907158   5.820285\n",
              "  616     542 52442 235.97563 ...          1.060135      0.02510053   3.962804\n",
              "  616     587 52442 236.04961 ...            1.6414       0.0427149   7.082381"
            ],
            "text/html": [
              "<div><i>Table length=10000</i>\n",
              "<table id=\"table132522974798528\" class=\"table-striped table-bordered table-condensed\">\n",
              "<thead><tr><th>plate</th><th>fiberid</th><th>mjd</th><th>ra</th><th>dec</th><th>z</th><th>zwarning</th><th>h_beta_flux</th><th>h_alpha_flux</th><th>h_beta_flux_err</th><th>h_alpha_flux_err</th><th>bptclass</th><th>lgm_tot_p50</th><th>lick_hd_a_sub</th><th>d4000_n_sub</th><th>lick_hd_a_sub_err</th><th>d4000_n_sub_err</th><th>petror90_r</th></tr></thead>\n",
              "<thead><tr><th>int64</th><th>int64</th><th>int64</th><th>float64</th><th>float64</th><th>float64</th><th>int64</th><th>float64</th><th>float64</th><th>float64</th><th>float64</th><th>int64</th><th>float64</th><th>float64</th><th>float64</th><th>float64</th><th>float64</th><th>float64</th></tr></thead>\n",
              "<tr><td>333</td><td>571</td><td>52313</td><td>185.22443</td><td>-1.3388478</td><td>0.07207848</td><td>0</td><td>51.94451</td><td>198.5636</td><td>1.885195</td><td>2.6722</td><td>1</td><td>10.18224</td><td>4.330747</td><td>1.310383</td><td>0.7445885</td><td>0.0169253</td><td>6.997992</td></tr>\n",
              "<tr><td>474</td><td>275</td><td>52000</td><td>140.4862</td><td>-0.26085291</td><td>0.06921994</td><td>0</td><td>92.454</td><td>447.2276</td><td>3.368717</td><td>5.047521</td><td>1</td><td>10.46715</td><td>4.221366</td><td>1.410885</td><td>0.7427163</td><td>0.01972284</td><td>5.300612</td></tr>\n",
              "<tr><td>476</td><td>183</td><td>52314</td><td>143.77995</td><td>-0.28450375</td><td>0.06025811</td><td>0</td><td>60.10839</td><td>207.4589</td><td>2.460826</td><td>3.439675</td><td>1</td><td>9.923159</td><td>4.621891</td><td>1.342039</td><td>0.9091107</td><td>0.02208839</td><td>3.646848</td></tr>\n",
              "<tr><td>451</td><td>159</td><td>51908</td><td>140.95425</td><td>56.185994</td><td>0.05502497</td><td>0</td><td>117.116</td><td>527.4168</td><td>2.670237</td><td>4.711517</td><td>1</td><td>9.724608</td><td>3.99692</td><td>1.25809</td><td>0.8388718</td><td>0.01940461</td><td>3.164736</td></tr>\n",
              "<tr><td>773</td><td>312</td><td>52376</td><td>158.06856</td><td>62.359454</td><td>0.05234427</td><td>0</td><td>78.23823</td><td>344.0019</td><td>2.994169</td><td>4.7783</td><td>1</td><td>9.992499</td><td>4.55784</td><td>1.288607</td><td>0.8798298</td><td>0.02084449</td><td>7.835544</td></tr>\n",
              "<tr><td>488</td><td>580</td><td>51914</td><td>154.93239</td><td>64.964024</td><td>0.09314673</td><td>0</td><td>79.06583</td><td>307.2166</td><td>2.248743</td><td>3.071284</td><td>1</td><td>10.1694</td><td>6.063585</td><td>1.261346</td><td>0.6908773</td><td>0.01562922</td><td>4.816102</td></tr>\n",
              "<tr><td>491</td><td>615</td><td>51942</td><td>173.06908</td><td>67.532562</td><td>0.05358149</td><td>0</td><td>82.47812</td><td>281.5127</td><td>1.93043</td><td>2.82884</td><td>1</td><td>9.671095</td><td>3.861136</td><td>1.279029</td><td>0.5999958</td><td>0.01371835</td><td>4.308666</td></tr>\n",
              "<tr><td>498</td><td>505</td><td>51984</td><td>212.10789</td><td>65.700936</td><td>0.0858291</td><td>0</td><td>61.57518</td><td>260.1109</td><td>2.199224</td><td>3.300743</td><td>1</td><td>10.06926</td><td>5.831767</td><td>1.331335</td><td>1.265234</td><td>0.03150718</td><td>5.096139</td></tr>\n",
              "<tr><td>492</td><td>48</td><td>51955</td><td>178.17374</td><td>66.307591</td><td>0.04596629</td><td>0</td><td>137.9533</td><td>634.3182</td><td>2.401846</td><td>4.863593</td><td>1</td><td>10.10812</td><td>4.555872</td><td>1.234707</td><td>0.5693665</td><td>0.0137907</td><td>12.35887</td></tr>\n",
              "<tr><td>494</td><td>247</td><td>51915</td><td>186.2722</td><td>66.456059</td><td>0.08870998</td><td>0</td><td>43.74715</td><td>193.0063</td><td>1.732916</td><td>2.342291</td><td>1</td><td>10.29002</td><td>3.18237</td><td>1.375685</td><td>0.6020391</td><td>0.01556796</td><td>4.950717</td></tr>\n",
              "<tr><td>...</td><td>...</td><td>...</td><td>...</td><td>...</td><td>...</td><td>...</td><td>...</td><td>...</td><td>...</td><td>...</td><td>...</td><td>...</td><td>...</td><td>...</td><td>...</td><td>...</td><td>...</td></tr>\n",
              "<tr><td>367</td><td>579</td><td>51997</td><td>260.8185</td><td>56.45395</td><td>0.07347347</td><td>0</td><td>31.359</td><td>122.7725</td><td>1.784232</td><td>1.928529</td><td>1</td><td>9.869885</td><td>4.42337</td><td>1.501633</td><td>1.403625</td><td>0.04111953</td><td>5.344547</td></tr>\n",
              "<tr><td>351</td><td>633</td><td>51695</td><td>258.2837</td><td>61.806517</td><td>0.05371919</td><td>0</td><td>84.9668</td><td>304.086</td><td>2.271133</td><td>3.498203</td><td>1</td><td>9.502881</td><td>4.465722</td><td>1.209439</td><td>0.9015635</td><td>0.019377</td><td>4.547138</td></tr>\n",
              "<tr><td>367</td><td>265</td><td>51997</td><td>259.31991</td><td>55.581203</td><td>0.06224808</td><td>0</td><td>38.67348</td><td>174.1662</td><td>1.485134</td><td>2.072751</td><td>1</td><td>10.20142</td><td>4.632188</td><td>1.410565</td><td>0.6870736</td><td>0.01888028</td><td>5.878625</td></tr>\n",
              "<tr><td>847</td><td>276</td><td>52426</td><td>191.0966</td><td>4.6877529</td><td>0.04824496</td><td>0</td><td>23.57548</td><td>89.4165</td><td>2.293432</td><td>2.519233</td><td>1</td><td>9.599869</td><td>2.85518</td><td>1.39382</td><td>1.49657</td><td>0.04027581</td><td>5.163736</td></tr>\n",
              "<tr><td>770</td><td>424</td><td>52282</td><td>148.61877</td><td>60.674308</td><td>0.07374763</td><td>0</td><td>182.5383</td><td>759.4549</td><td>3.30355</td><td>7.269739</td><td>1</td><td>10.23619</td><td>4.19475</td><td>1.166355</td><td>0.4174074</td><td>0.007911522</td><td>4.294993</td></tr>\n",
              "<tr><td>770</td><td>575</td><td>52282</td><td>151.36919</td><td>61.523483</td><td>0.097325</td><td>0</td><td>31.98165</td><td>132.9542</td><td>1.742087</td><td>2.396951</td><td>1</td><td>10.18879</td><td>4.174015</td><td>1.356113</td><td>0.9649004</td><td>0.02396402</td><td>3.607511</td></tr>\n",
              "<tr><td>604</td><td>542</td><td>52079</td><td>207.37885</td><td>63.964162</td><td>0.08716635</td><td>0</td><td>75.61571</td><td>266.0122</td><td>2.659577</td><td>3.696146</td><td>1</td><td>10.38629</td><td>2.865899</td><td>1.31343</td><td>0.9496084</td><td>0.02154303</td><td>9.468022</td></tr>\n",
              "<tr><td>616</td><td>544</td><td>52442</td><td>235.66063</td><td>54.613396</td><td>0.07291469</td><td>0</td><td>59.43682</td><td>239.7608</td><td>1.935917</td><td>2.688605</td><td>1</td><td>10.05732</td><td>5.107075</td><td>1.276309</td><td>0.871084</td><td>0.01907158</td><td>5.820285</td></tr>\n",
              "<tr><td>616</td><td>542</td><td>52442</td><td>235.97563</td><td>54.571489</td><td>0.07986967</td><td>0</td><td>41.23737</td><td>173.7277</td><td>2.00174</td><td>2.400626</td><td>1</td><td>10.03566</td><td>5.883449</td><td>1.348428</td><td>1.060135</td><td>0.02510053</td><td>3.962804</td></tr>\n",
              "<tr><td>616</td><td>587</td><td>52442</td><td>236.04961</td><td>54.561386</td><td>0.06664927</td><td>0</td><td>29.61652</td><td>95.0562</td><td>1.737539</td><td>1.867981</td><td>1</td><td>9.476142</td><td>8.313913</td><td>1.357998</td><td>1.6414</td><td>0.0427149</td><td>7.082381</td></tr>\n",
              "</table></div>"
            ]
          },
          "metadata": {},
          "execution_count": 3
        }
      ]
    },
    {
      "cell_type": "markdown",
      "source": [
        "### Dereddening the Spectrum\n",
        "\n",
        "In order to determine the star formation rate (SFR) in each galaxy, we need to get the H $\\alpha$ luminosity L(H$\\alpha$) emitted from each galaxy. The SQL query gives us the observed flux F(H$\\alpha$), but this doesn’t account for dust absorbing some of this light as it travels from a galaxy to the point of observation. Fortunately, we can correct for this “extinction” by making use of the fact that dust preferentially absorbs shorter wavelength light to “deredden” the spectrum. In ideal conditions without dust, we can assume that\n",
        "F(H$\\alpha$)/F(H$\\beta$) = 2.86 in star forming regions. Let’s deredden the H$\\alpha$ flux."
      ],
      "metadata": {
        "id": "-AOui-wtlPN8"
      }
    },
    {
      "cell_type": "code",
      "source": [
        "# Deredden emission lines according to Calzetii+ 2000\n",
        "# wavelength supplied in angstroms\n",
        "# wl : wavelenght\n",
        "# kwl : wavenumber\n",
        "\n",
        "def deredden(lum,wl,Hb,Ha):\n",
        "    if (wl >= 6300 and wl <= 22000):\n",
        "        wl = wl/1e4 # convert to microns\n",
        "        kwl = 2.659*(-1.857+1.040/wl)+4.05\n",
        "    elif (wl >= 1200 and wl < 6300):\n",
        "        wl = wl/1e4 # convert to microns\n",
        "        kwl = 2.659*(-2.156+1.509/wl-0.198/wl**2+0.011/wl**3)+4.05\n",
        "    else:\n",
        "        print ('Wavelength of range')\n",
        "\n",
        "    # Using k-values calc as above\n",
        "    kHa = 3.326\n",
        "    kHb = 4.598\n",
        "\n",
        "    ebmv = 2.5/(kHb-kHa)*np.log10(Ha/Hb/2.86) # 2.86 for SF; 3.1 for AGN\n",
        "    lum_dr = lum*10**(0.4*kwl*ebmv)\n",
        "\n",
        "    return lum_dr\n",
        "\n",
        "####\n",
        "\n",
        "Halpha_flux = gals['h_alpha_flux']\n",
        "Hbeta_flux = gals['h_beta_flux']\n",
        "\n",
        "#The actual H alpha flux\n",
        "Halpha_flux_dr = deredden(Halpha_flux,6563,Hbeta_flux,Halpha_flux)"
      ],
      "metadata": {
        "id": "88sEJaKF_tj4"
      },
      "execution_count": null,
      "outputs": []
    },
    {
      "cell_type": "markdown",
      "source": [
        "According to the GalSpecLine table, the line flux is returned as 10$^{-17}$ erg/s/cm$^2$, so we first need to multiply our dereddened F(H) by 10$^{-17}$ to get actual flux value. Luminosity has units of energy / second, and an erg is a unit of energy.\n",
        "\n",
        "1) Calcualte the distance to the galaxies in the sample in cm. Make sure to clarify which hubble constant you are using.\n",
        "\n",
        "You can convert the redshift (z) to distance (d) using the following relation:  \n",
        "$$z=H_0 \\frac{d}{c}$$\n",
        "\n",
        "For the Hubble Constant you can use $H_0$=70 (km /s)/Mpc, and c is the speed of light."
      ],
      "metadata": {
        "id": "iQXKbtPclfVc"
      }
    },
    {
      "cell_type": "markdown",
      "source": [
        "2) Convert the H$\\alpha$ flux, $F(H_\\alpha)$, into H$\\alpha$ luminosity, $L(H_\\alpha)$. The Luminosity is given by the following equation: $$L(H_\\alpha)= 4 \\pi d^2 F(H_\\alpha)$$\n",
        "\n",
        "d is the distance to the galaxy."
      ],
      "metadata": {
        "id": "0HGuGT_Zpri6"
      }
    },
    {
      "cell_type": "markdown",
      "source": [
        "We can now use the L(H$\\alpha$) to determine the star formation rate (SFR) of the galaxies in our sample. The star formation rate is how many new stars a galaxy forms per year in units of solar mass/year (M$_{\\odot}$/yr). To calcualte the SFR we can use the following conversion:\n",
        "\n",
        "$$SFR = \\frac{L(H\\alpha)}{1.26 \\times 10^{41} ergs \\ s^{-1}}$$"
      ],
      "metadata": {
        "id": "ipbzQOXBljSq"
      }
    },
    {
      "cell_type": "markdown",
      "source": [
        "3) Calcualte the star formation rate as $log_{10}(SFR)$. Make a histogram of $log_{10}(SFR)$. How is the distribution of the star formation rate?  "
      ],
      "metadata": {
        "id": "ZHcsbLfMlog6"
      }
    },
    {
      "cell_type": "markdown",
      "source": [
        "### The Star Forming Main Sequence\n",
        "\n",
        "A common measure of galaxy mass is its stellar mass M$_{\\star}$ in units of solar mass M$_{\\odot}$, however a galaxy’s mass can be defined in many ways. We can roughly envision that M$_{\\star}$ is proxy for galaxy size since larger galaxies typically contain more stars.\n",
        "\n",
        "4) Make a scatter plot of $log_{10}(SFR)$ vs $log_{10}(M_{\\star})$. We have $log_{10}(M_{\\star})$ provided in the SDSS data as: gals['lgm_tot_p50']. Plot $log_{10}(M_{\\star})$ on the x-axis.\n",
        "\n",
        "**Based on the plot, how does the SFR correlate with the stallar mass M$_{\\star}$?**\n"
      ],
      "metadata": {
        "id": "VmuzT0E_lt2S"
      }
    },
    {
      "cell_type": "markdown",
      "source": [
        "The expected correlation is the following:\n",
        "\n",
        "$$log_{10}(SFR) = log_{10}M_{\\star} \\times 1.292 - 12.31$$\n",
        "\n",
        "5) Make the same plot $log_{10}(SFR)$ vs $log_{10}(M_{\\star})$ adding the expected correlation. What can you conclude form this plot? Are there many galaxies that are above the correlation?  "
      ],
      "metadata": {
        "id": "vz0Fq3Rtvw_5"
      }
    },
    {
      "cell_type": "markdown",
      "source": [
        "6) <b>What kind of galaxies are the ones with high star formation rates?\n",
        "\n",
        "Are these spirals or ellipticals?\n",
        "\n",
        "Do these galaxies look blue or red?</b>\n",
        "\n",
        "To answere this, download a sample of images for 16 galaxies for which $log_{10}(SFR)$ is smaller than the 25th percentile of the data.\n",
        "\n",
        "You can use the code below to get the image cutouts."
      ],
      "metadata": {
        "id": "mMC9nm6vlxfb"
      }
    },
    {
      "cell_type": "code",
      "source": [
        "#\n",
        "# Function to display images\n",
        "#\n",
        "def get_images(gal_array):\n",
        "    # set thumbnail parameters\n",
        "    width=200           # image width\n",
        "    height=200          # height\n",
        "    pixelsize=0.396     # image scale\n",
        "    plt.figure(figsize=(15, 15))   # display in a 4x4 grid\n",
        "    subPlotNum = 1\n",
        "\n",
        "    i = 0\n",
        "    new_gals = gal_array\n",
        "    nGalaxies = len(new_gals)\n",
        "    for index in range(0,nGalaxies):           # iterate through rows in the DataFrame\n",
        "        i = i + 1\n",
        "        if i<17:\n",
        "            print('Getting image of '+str(i)+' of '+str(nGalaxies)+'...')\n",
        "            if (i == nGalaxies):\n",
        "                print('Plotting images...')\n",
        "            scale=2.0 * new_gals['petror90_r'] / pixelsize / width\n",
        "\n",
        "            pos = coords.SkyCoord(new_gals['ra'][index], new_gals['dec'][index], unit=u.deg, frame='icrs')\n",
        "\n",
        "            cutoutbaseurl = 'http://skyservice.pha.jhu.edu/DR12/ImgCutout/getjpeg.aspx'\n",
        "            query_string = urlencode(dict(ra=new_gals['ra'][index], dec=new_gals['dec'][index],width=width, height=height, scale=scale[i]))\n",
        "            url = cutoutbaseurl + '?' + query_string\n",
        "\n",
        "            # this downloads the image\n",
        "            image_name = 'cutout_'+str(index)+'.jpg'\n",
        "            urlretrieve(url, image_name)\n",
        "\n",
        "            # Display the image\n",
        "            img = imread(image_name)\n",
        "\n",
        "            plt.subplot(4,4,subPlotNum)\n",
        "            subPlotNum += 1\n",
        "            plt.imshow(img)                               # show images in grid\n",
        "            plt.title(index)                              # show the object identifier (objId) above the image.\n",
        "\n",
        "######\n"
      ],
      "metadata": {
        "id": "0J4uT5mvl0D-"
      },
      "execution_count": null,
      "outputs": []
    },
    {
      "cell_type": "markdown",
      "source": [
        "7) <b>What kind of galaxies are the ones with low star formation rates?\n",
        "\n",
        "Are these spirals or ellipticals?\n",
        "\n",
        "Do these galaxies look blue or red? </b>\n",
        "\n",
        "To answere this, download a sample of images for 16 galaxies for which $log_{10}(SFR)$ is larger than the 75th percentile of the data."
      ],
      "metadata": {
        "id": "UpwvsPQVl-j4"
      }
    },
    {
      "cell_type": "markdown",
      "source": [
        "8) **Do yuo see a difference between the low and the high star formation rate sample?**\n",
        "\n",
        "Let's investigate the colours of these galaxies. Make a histogram of the u-g coulour.\n",
        "\n",
        "**Does the histogram look the same as the u-g colour histogram in the tutorial notebook?**  \n",
        "\n"
      ],
      "metadata": {
        "id": "hm9gaIudVx1I"
      }
    },
    {
      "cell_type": "markdown",
      "source": [
        "9) There are galaxies that form stars in an extreme way. These galaxies are called **starbusrt galaxies**.\n",
        "\n",
        "**How do the starburst galaxies look like?**\n",
        "\n",
        "To answere this, download a sample of images for 16 galaxies for which $log_{10}(SFR)$ is larger than the 99th percentile of the data.\n",
        "\n"
      ],
      "metadata": {
        "id": "RqNpGcwkWmRb"
      }
    },
    {
      "cell_type": "markdown",
      "source": [
        "### The specific star formation rate\n",
        "\n",
        "Typically more massive galaxies have more gas and are able to form stars. This means that star formation rate alone is not a good method in evaluating how activly a galaxy is forming stars and growing. A better parameter is, if we normalise the star formation rate with the stellar mass. This is called **specific star formation rate (sSFR)**. It is defined as\n",
        "\n",
        "$$sSFR = \\frac{SFR}{M_{\\star}}$$\n",
        "\n",
        "and represents ratio of current star formation to past star formation, or the growth rate of stellar mass in a galaxy. We can calcualte the sSFR to our dataframe to explore the metric in detail.\n",
        "\n",
        "9) Calcualte the $log_{10}(sSFR)$ and make a scatter plot of $log_{10}M_{\\star}$ on the x-axis and $log_{10}(sSFR)$ on the y-axis. Make sure to exclude outliers from the plot. For this you can use ax.set_ylim().\n",
        "\n",
        "**Does this plot show the same correlation as the $log_{10}(SFR)$ - $log_{10}M_{\\star}$ plot?**\n",
        "\n",
        "**Are the high mass galaxies or the low mass galaxies more efficient at formaing stars?**"
      ],
      "metadata": {
        "id": "bxAZPW4imCxa"
      }
    },
    {
      "cell_type": "markdown",
      "source": [
        "10) **What kind of galaxies have the highest sSFR?**\n",
        "\n",
        "These galaxies form stars in an extreme way. These galaxies are called **starbusrt galaxies**.\n",
        "\n",
        "**How do the starburst galaxies look like?**\n",
        "\n",
        "To answere this, download a sample of images for 16 galaxies for which $log_{10}(sSFR)$ is larger than the 99.9th percentile of the data."
      ],
      "metadata": {
        "id": "ZeuU-nFpmHR4"
      }
    },
    {
      "cell_type": "code",
      "source": [],
      "metadata": {
        "id": "NiLilUl2AhuP"
      },
      "execution_count": null,
      "outputs": []
    }
  ]
}